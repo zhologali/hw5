{
 "cells": [
  {
   "cell_type": "markdown",
   "metadata": {},
   "source": [
    "Вы работаете секретарем и вам постоянно приходят различные документы. Вы должны быть очень внимательны, чтобы не потерять ни один документ. Каталог документов хранится в следующем виде:"
   ]
  },
  {
   "cell_type": "code",
   "execution_count": 7,
   "metadata": {},
   "outputs": [],
   "source": [
    "documents = [\n",
    "    {'type': 'passport', 'number': '2207 876234', 'name': 'Василий Гупкин'},\n",
    "    {'type': 'invoice', 'number': '11-2', 'name': 'Геннадий Покемонов'},\n",
    "    {'type': 'insurance', 'number': '10006', 'name': 'Аристарх Павлов'}\n",
    "]"
   ]
  },
  {
   "cell_type": "markdown",
   "metadata": {},
   "source": [
    "Перечень полок, на которых находятся документы хранится в следующем виде:"
   ]
  },
  {
   "cell_type": "code",
   "execution_count": 79,
   "metadata": {},
   "outputs": [],
   "source": [
    "directories = {\n",
    "    '1': ['2207 876234', '11-2'],\n",
    "    '2': ['10006'],\n",
    "    '3': []\n",
    "}"
   ]
  },
  {
   "cell_type": "markdown",
   "metadata": {},
   "source": [
    "Необходимо реализовать пользовательские команды (внимание! это не название функций, которые должны быть выразительными, а команды, которые вводит пользователь, чтобы получить необходимый результат):\n",
    "\n",
    "* p – people – команда, которая спросит номер документа и выведет имя человека, которому он принадлежит;\n",
    "* s – shelf – команда, которая спросит номер документа и выведет номер полки, на которой он находится\n",
    "Правильно обработайте ситуации, когда пользователь будет вводить несуществующий документ.\n",
    "* l – list – команда, которая выведет список всех документов в формате\n",
    "**passport \"2207 876234\" \"Василий Гупкин\"**\n",
    "* as – add shelf – команда, которая спросит номер новой полки и добавит ее в перечень. Предусмотрите случай, когда * m – move – команда, которая спросит номер документа и целевую полку и переместит его с текущей полки на целевую. Корректно обработайте кейсы, когда пользователь пытается переместить несуществующий документ или переместить документ на несуществующую полку;\n",
    "*  – add – команда, которая добавит новый документ в каталог и в перечень полок, спросив его номер, тип, имя владельца и номер полки, на котором он будет храниться. Корректно обработайте ситуацию, когда пользователь будет пытаться добавить документ на несуществующую полку."
   ]
  },
  {
   "cell_type": "code",
   "execution_count": 20,
   "metadata": {},
   "outputs": [],
   "source": [
    "def people(documents):\n",
    "    num = input('Введите номер документа ')\n",
    "    result = ''\n",
    "    for doc in documents:\n",
    "        if doc['number'] == num:\n",
    "            result =  doc['name']\n",
    "    print(result)      "
   ]
  },
  {
   "cell_type": "code",
   "execution_count": 75,
   "metadata": {},
   "outputs": [],
   "source": [
    "def shelf(directories):\n",
    "    num = input('Введите номер документа ')\n",
    "    result = ''\n",
    "    for key,directori in directories.items():\n",
    "        if num in directori:\n",
    "            result =  key\n",
    "    if result == '':\n",
    "        print('Данного документа не существует')\n",
    "    else:\n",
    "        print(result)"
   ]
  },
  {
   "cell_type": "code",
   "execution_count": 22,
   "metadata": {},
   "outputs": [],
   "source": [
    "def list(documents): \n",
    "    for doc in documents:\n",
    "        print(doc['type'],' \"',doc['number'],'\" \"',doc['name'],'\"',sep='')"
   ]
  },
  {
   "cell_type": "code",
   "execution_count": 13,
   "metadata": {},
   "outputs": [],
   "source": [
    "def add_shelf(directories):\n",
    "    polka = input('Введите номер новой полки ')\n",
    "    if polka in directories.keys():\n",
    "        print('Полка с данным номером существует, введите другой номер')\n",
    "    else:\n",
    "        directories[polka]=[]\n",
    "        print('Полка успешно добавлена')\n",
    "        print(directories)"
   ]
  },
  {
   "cell_type": "code",
   "execution_count": 84,
   "metadata": {},
   "outputs": [],
   "source": [
    "def movie(directories):\n",
    "    num = input('Введите номер документа ')\n",
    "    current_polka = ''\n",
    "    for key,directori in directories.items():\n",
    "        if num in directori:\n",
    "            current_polka =  key\n",
    "            i_num = directori.index(num)\n",
    "    if current_polka == '':\n",
    "        print('Данного документа не существует')\n",
    "        return\n",
    "    target_polka = input('Введите номер целевой полки ')\n",
    "    if target_polka in directories.keys():\n",
    "        directories[target_polka].append(directories[current_polka][i_num])\n",
    "        del(directories[current_polka][i_num])\n",
    "        print(directories)  \n",
    "    else:\n",
    "        print('Полки с таким номером не существует')"
   ]
  },
  {
   "cell_type": "code",
   "execution_count": null,
   "metadata": {},
   "outputs": [],
   "source": [
    "def add(documents,directories):\n",
    "    new_doc=[]\n",
    "    num = input('Введите тип документа ')\n",
    "    new_doc.append(num)\n",
    "    num = input('Введите номер документа ')\n",
    "    new_doc.append(num)\n",
    "    num = input('Введите фамилию владельца документа')\n",
    "    new_doc.append(num)\n",
    "    print(new_doc)\n",
    "    print(type(new_doc))"
   ]
  },
  {
   "cell_type": "code",
   "execution_count": null,
   "metadata": {},
   "outputs": [],
   "source": [
    "add(documents,directories)"
   ]
  },
  {
   "cell_type": "code",
   "execution_count": 82,
   "metadata": {},
   "outputs": [],
   "source": [
    "def main():\n",
    "    while True:\n",
    "        user_input = input('Введите команду ')\n",
    "        if user_input == 'p':\n",
    "            people(documents)\n",
    "        elif user_input == 's':\n",
    "            shelf(directories)\n",
    "        elif user_input == 'l':\n",
    "            list(documents)\n",
    "        elif user_input == 'as':\n",
    "            add_shelf(directories)\n",
    "        elif user_input == 'm':\n",
    "            movie(directories)\n",
    "        elif user_input == 'q':\n",
    "            break"
   ]
  },
  {
   "cell_type": "code",
   "execution_count": 83,
   "metadata": {},
   "outputs": [
    {
     "name": "stdout",
     "output_type": "stream",
     "text": [
      "Введите команду m\n",
      "Введите номер документа 11-3\n",
      "Данного документа не существует\n",
      "Введите команду m\n",
      "Введите номер документа 11-2\n",
      "Введите номер целевой полки 4\n",
      "Полки с таким номером не существует\n",
      "Введите команду m\n",
      "Введите номер документа 11-2\n",
      "Введите номер целевой полки 3\n",
      "{'1': ['2207 876234'], '2': ['10006'], '3': ['11-2']}\n",
      "Введите команду q\n"
     ]
    }
   ],
   "source": [
    "main()"
   ]
  },
  {
   "cell_type": "code",
   "execution_count": null,
   "metadata": {},
   "outputs": [],
   "source": []
  }
 ],
 "metadata": {
  "kernelspec": {
   "display_name": "Python 3",
   "language": "python",
   "name": "python3"
  },
  "language_info": {
   "codemirror_mode": {
    "name": "ipython",
    "version": 3
   },
   "file_extension": ".py",
   "mimetype": "text/x-python",
   "name": "python",
   "nbconvert_exporter": "python",
   "pygments_lexer": "ipython3",
   "version": "3.7.6"
  }
 },
 "nbformat": 4,
 "nbformat_minor": 4
}
